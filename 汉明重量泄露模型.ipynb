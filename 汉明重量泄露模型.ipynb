{
 "cells": [
  {
   "cell_type": "markdown",
   "metadata": {},
   "source": [
    "<div style=\"height:100px\">\n",
    "    <div style=\"float: left\"><img src='../images/osr-logo.png' width=150px /></div>\n",
    "    <div style=\"float: left; margin-left:30px\"><span style=\"font-weight: normal; font-size: 30pt; color:#666666\">密码工程实验指引</span></div>\n",
    "    <img src='../images/osr-line.jpg' style=\"width:100%; height: 5px\" />\n",
    "</div>\n"
   ]
  },
  {
   "cell_type": "markdown",
   "metadata": {},
   "source": [
    "# 汉明重量泄露模型"
   ]
  },
  {
   "cell_type": "markdown",
   "metadata": {},
   "source": [
    "## 实验目的"
   ]
  },
  {
   "cell_type": "markdown",
   "metadata": {},
   "source": [
    "通过实验，理解汉明重量泄露模型，掌握使用汉明重量模型分析能量曲线中的数据依赖性。"
   ]
  },
  {
   "cell_type": "markdown",
   "metadata": {},
   "source": [
    "## 实验要求"
   ]
  },
  {
   "cell_type": "markdown",
   "metadata": {},
   "source": [
    "- 编写将数据从内存转移到寄存器的程序，下载烧写到 `OSR-Mega2560` 或 `OSR-407`开发板；\n",
    "- 使用osrtoolkit示波器模块和波形存储类采集能量曲线；\n",
    "- 使用汉明重量模型分析能量曲线中的数据依赖性。"
   ]
  },
  {
   "cell_type": "markdown",
   "metadata": {},
   "source": [
    "## 实验环境需求"
   ]
  },
  {
   "cell_type": "markdown",
   "metadata": {},
   "source": [
    "- **硬件需求**\n",
    "    + OSR-Mega2560 或 OSR-407开发板\n",
    "    + Pico 3206D示波器\n",
    "- **软件需求**\n",
    "    + Arduino IDE\n",
    "    + python osrtoolkit库"
   ]
  },
  {
   "cell_type": "markdown",
   "metadata": {},
   "source": [
    "## 实验内容"
   ]
  },
  {
   "cell_type": "markdown",
   "metadata": {},
   "source": [
    "### 汉明重量模型"
   ]
  },
  {
   "cell_type": "markdown",
   "metadata": {},
   "source": [
    "在能量分析攻击中, 通常必须要将操作数映射为能量消耗值, 汉明重量模型和汉明距离模型是在能量分析中最常用的模型。\n",
    "\n",
    "汉明重量模型假设能量消耗与被处理的数据中比特'1'的个数呈线性关系，即 $L = a\\cdot HW(x) + b +r $，其中，$x$为中间值，$HW(\\cdot)$ 为汉明重量函数，即计算数值中1的个数，$a$为系数，$b$为常数，$c$ 为随机噪声。\n",
    "\n",
    "而汉明距离模型假设能量消耗与寄存器刷新前后数据的比特翻转个数呈线性关系，即 $L = a\\cdot HD(x, y) + b +r $，其中，$x$为寄存器刷新前存储的中间值，$y$为寄存器刷新后存储的中间值，$HD(\\cdot)$ 为汉明距离函数，即$0\\rightarrow 1$和$1\\rightarrow 0$的比特个数，$a$为系数，$b$为常数，$c$ 为随机噪声。"
   ]
  },
  {
   "cell_type": "markdown",
   "metadata": {},
   "source": [
    "## 实验过程"
   ]
  },
  {
   "cell_type": "markdown",
   "metadata": {},
   "source": [
    "### 导入osrtoolkit示波器模块和波形存储类"
   ]
  },
  {
   "cell_type": "code",
   "execution_count": 1,
   "metadata": {},
   "outputs": [],
   "source": [
    "from osrtoolkit.oscilloscope import Pico3000"
   ]
  },
  {
   "cell_type": "markdown",
   "metadata": {},
   "source": [
    "### 配置示波器控制模块\n",
    "\n",
    "#### 示波器的参数选取可以参考下图：\n",
    "\n",
    "   <img src=\"../images/HW_pico3000.png\" width=\"500px\" align=\"left\" >"
   ]
  },
  {
   "cell_type": "code",
   "execution_count": 2,
   "metadata": {},
   "outputs": [
    {
     "data": {
      "application/vnd.jupyter.widget-view+json": {
       "model_id": "65f4b6751e644b9ba8f0f587092c58c8",
       "version_major": 2,
       "version_minor": 0
      },
      "text/plain": [
       "VBox(children=(HTML(value=\"<center><h2 style='color:#333333'>Pico3000 Oscilloscope</h2></center>\", layout=Layo…"
      ]
     },
     "metadata": {},
     "output_type": "display_data"
    }
   ],
   "source": [
    "pico = Pico3000()  # 声明pico示波器对象\n",
    "pico.form  # 打开pico示波器配置界面"
   ]
  },
  {
   "cell_type": "markdown",
   "metadata": {},
   "source": [
    "### 与 TOE 进行通信"
   ]
  },
  {
   "cell_type": "code",
   "execution_count": 4,
   "metadata": {},
   "outputs": [],
   "source": [
    "import serial\n",
    "import numpy as np\n",
    "import time"
   ]
  },
  {
   "cell_type": "code",
   "execution_count": 9,
   "metadata": {},
   "outputs": [],
   "source": [
    "mega = serial.Serial('com11', 115200, timeout=1)"
   ]
  },
  {
   "cell_type": "code",
   "execution_count": 10,
   "metadata": {},
   "outputs": [
    {
     "data": {
      "text/plain": [
       "True"
      ]
     },
     "execution_count": 10,
     "metadata": {},
     "output_type": "execute_result"
    }
   ],
   "source": [
    "pico.arm()"
   ]
  },
  {
   "cell_type": "code",
   "execution_count": 11,
   "metadata": {},
   "outputs": [
    {
     "data": {
      "text/plain": [
       "1"
      ]
     },
     "execution_count": 11,
     "metadata": {},
     "output_type": "execute_result"
    }
   ],
   "source": [
    "mega.write(b'\\x01')"
   ]
  },
  {
   "cell_type": "markdown",
   "metadata": {},
   "source": [
    "### 测量微控制器将8比特数据从内存移动到寄存器时的能量消耗"
   ]
  },
  {
   "cell_type": "markdown",
   "metadata": {},
   "source": [
    "对8比特数据，使用全部256个不同的数值。对于256个数值中的每一个，记录了1000次微控制器的能量消耗，并求出均值。"
   ]
  },
  {
   "cell_type": "code",
   "execution_count": 25,
   "metadata": {},
   "outputs": [],
   "source": [
    "import matplotlib.pyplot as plt\n",
    "from tqdm import tnrange\n",
    "import time"
   ]
  },
  {
   "cell_type": "code",
   "execution_count": 26,
   "metadata": {},
   "outputs": [],
   "source": [
    "%matplotlib widget"
   ]
  },
  {
   "cell_type": "code",
   "execution_count": 27,
   "metadata": {},
   "outputs": [],
   "source": [
    "plt.rcParams['figure.figsize'] = [20,4]  # 调整图片尺寸"
   ]
  },
  {
   "cell_type": "code",
   "execution_count": 28,
   "metadata": {},
   "outputs": [],
   "source": [
    "a = np.empty((256,3000), dtype = np.float) "
   ]
  },
  {
   "cell_type": "code",
   "execution_count": 29,
   "metadata": {},
   "outputs": [
    {
     "data": {
      "application/vnd.jupyter.widget-view+json": {
       "model_id": "a15dc950dd3940e7aa5af65e27af164e",
       "version_major": 2,
       "version_minor": 0
      },
      "text/plain": [
       "HBox(children=(IntProgress(value=0, max=256), HTML(value='')))"
      ]
     },
     "metadata": {},
     "output_type": "display_data"
    },
    {
     "name": "stdout",
     "output_type": "stream",
     "text": [
      "\n"
     ]
    }
   ],
   "source": [
    "for i in tnrange(256):\n",
    "    pico.arm()\n",
    "    for j in range(1000):\n",
    "        mega.write(bytes([i]))\n",
    "        mega.read_all()\n",
    "    time.sleep(0.05)\n",
    "    trs = pico.acquire_samples()\n",
    "    a[i] = np.mean(trs[1],axis=0)"
   ]
  },
  {
   "cell_type": "markdown",
   "metadata": {},
   "source": [
    "将微处理器处理的8比特数据按汉明重量进行分类，并求出每一类数据对应的能量消耗的均值。"
   ]
  },
  {
   "cell_type": "code",
   "execution_count": 34,
   "metadata": {},
   "outputs": [],
   "source": [
    "hw = np.empty((256), dtype = np.float) \n",
    "b = np.empty((9,3000), dtype = np.float) "
   ]
  },
  {
   "cell_type": "code",
   "execution_count": 31,
   "metadata": {},
   "outputs": [],
   "source": [
    "for i in range(256):\n",
    "    c=str(bin(i))\n",
    "    hw[i]=c.count('1')\n",
    "    \n",
    "for i in range(9):\n",
    "    index = np.where(hw==i)\n",
    "    b[i]=np.mean(a[index],axis=0)"
   ]
  },
  {
   "cell_type": "code",
   "execution_count": 32,
   "metadata": {},
   "outputs": [
    {
     "data": {
      "application/vnd.jupyter.widget-view+json": {
       "model_id": "2c1774a0b7cb4aeb8fadd8406193d68c",
       "version_major": 2,
       "version_minor": 0
      },
      "text/plain": [
       "Canvas(toolbar=Toolbar(toolitems=[('Home', 'Reset original view', 'home', 'home'), ('Back', 'Back to previous …"
      ]
     },
     "metadata": {},
     "output_type": "display_data"
    }
   ],
   "source": [
    "plt.figure()\n",
    "plt.plot(trs[0][0])\n",
    "plt.plot(b.T)\n",
    "plt.legend(['trigger','0','1','2','3','4','5','6','7','8'], loc='upper left')\n",
    "plt.show()"
   ]
  },
  {
   "cell_type": "markdown",
   "metadata": {},
   "source": [
    "放大$[250,350]$区间的图像，我们可以清楚地看到对不同汉明重量的数据进行操作时，微控制器能量的消耗具有不同的均值。"
   ]
  },
  {
   "cell_type": "code",
   "execution_count": 33,
   "metadata": {},
   "outputs": [
    {
     "data": {
      "application/vnd.jupyter.widget-view+json": {
       "model_id": "2f9e02fa5aee4586961b8a7e434f84f4",
       "version_major": 2,
       "version_minor": 0
      },
      "text/plain": [
       "Canvas(toolbar=Toolbar(toolitems=[('Home', 'Reset original view', 'home', 'home'), ('Back', 'Back to previous …"
      ]
     },
     "metadata": {},
     "output_type": "display_data"
    }
   ],
   "source": [
    "plt.figure()\n",
    "plt.plot(trs[0][0,250:350])\n",
    "plt.plot(b[:,250:350].T)\n",
    "plt.legend(['trigger','0','1','2','3','4','5','6','7','8'], loc='upper left')\n",
    "plt.show()"
   ]
  },
  {
   "cell_type": "markdown",
   "metadata": {},
   "source": [
    "结果表明，寄存器变化带来的能量消耗符合汉明重量模型。"
   ]
  },
  {
   "cell_type": "markdown",
   "metadata": {},
   "source": [
    "<img src='../images/osr-line.jpg' style=\"width:100%; height: 5px\" />\n",
    "<span style=\"font-weight: normal; font-size: 20pt; color:#666666\">联系我们</span>\n",
    "\n",
    "<span style=\"font-weight: normal; font-size: 18pt; color:#666666\">深圳市纽创信安科技开发有限公司 (Open Security Research, Inc.)</span>\n",
    "<div>\n",
    "    <div style=\"float: left\">\n",
    "        <img src=\"../images/osr-code.png\" width='150px'>\n",
    "    </div>\n",
    "    <div style=\"float: left; margin-left:30px\">\n",
    "        <h5>网址: <a href=\"https://www.opsefy.com/\">www.opsefy.com</a> </h5>\n",
    "        <h5>邮箱: <a href=\"mailto:sales@opsefy.com\">sales@opsefy.com</a></h5>\n",
    "        <h5>电话: +86 755 8695 0263</h5>\n",
    "        <h5>\n",
    "            地址：深圳市南山区粤海街道高新南 10 道深圳湾生态园 12 栋裙楼 8 楼 29-31 室<br/>\n",
    "                 &nbsp;&nbsp;&nbsp;&nbsp;&nbsp;&nbsp;&nbsp;&nbsp;&nbsp;&nbsp;\n",
    "                北京市海淀区中关村东路 66 号世纪科贸大厦 B 座 2703 室\n",
    "        </h5>\n",
    "    </div>\n",
    "</div>\n"
   ]
  }
 ],
 "metadata": {
  "kernelspec": {
   "display_name": "Python 3",
   "language": "python",
   "name": "python3"
  },
  "language_info": {
   "codemirror_mode": {
    "name": "ipython",
    "version": 3
   },
   "file_extension": ".py",
   "mimetype": "text/x-python",
   "name": "python",
   "nbconvert_exporter": "python",
   "pygments_lexer": "ipython3",
   "version": "3.6.8rc1"
  },
  "toc-autonumbering": true,
  "toc-showcode": false,
  "toc-showmarkdowntxt": false,
  "toc-showtags": true
 },
 "nbformat": 4,
 "nbformat_minor": 4
}
